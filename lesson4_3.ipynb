{
 "cells": [
  {
   "cell_type": "code",
   "execution_count": 67,
   "metadata": {},
   "outputs": [],
   "source": [
    "def generate_stu():         #建立function\n",
    "    return[78,98,65,91,78]  #回傳list內的值"
   ]
  },
  {
   "cell_type": "code",
   "execution_count": 68,
   "metadata": {},
   "outputs": [
    {
     "data": {
      "text/plain": [
       "[78, 98, 65, 91, 78]"
      ]
     },
     "execution_count": 68,
     "metadata": {},
     "output_type": "execute_result"
    }
   ],
   "source": [
    "generate_stu()"
   ]
  },
  {
   "cell_type": "code",
   "execution_count": 69,
   "metadata": {},
   "outputs": [],
   "source": [
    "#引用random亂數進來\n",
    "import random\n",
    "\n",
    "def generate_stu():\n",
    "    return(random.randint(50,100),random.randint(50,100),random.randint(50,100),random.randint(50,100),random.randint(50,100))"
   ]
  },
  {
   "cell_type": "code",
   "execution_count": 70,
   "metadata": {},
   "outputs": [
    {
     "data": {
      "text/plain": [
       "(79, 58, 92, 65, 77)"
      ]
     },
     "execution_count": 70,
     "metadata": {},
     "output_type": "execute_result"
    }
   ],
   "source": [
    "generate_stu()"
   ]
  },
  {
   "cell_type": "code",
   "execution_count": null,
   "metadata": {},
   "outputs": [
    {
     "data": {
      "text/plain": [
       "[(79, 90, 91, 97, 50), (57, 91, 59, 70, 66), (82, 82, 95, 64, 79)]"
      ]
     },
     "execution_count": 71,
     "metadata": {},
     "output_type": "execute_result"
    }
   ],
   "source": [
    "#建立2維list\n",
    "#第1維為外面的，3個學生\n",
    "#第2維為每個學生共5個分數\n",
    "students = [generate_stu(),generate_stu(),generate_stu()]\n",
    "students"
   ]
  },
  {
   "cell_type": "code",
   "execution_count": 72,
   "metadata": {},
   "outputs": [
    {
     "data": {
      "text/plain": [
       "(79, 90, 91, 97, 50)"
      ]
     },
     "execution_count": 72,
     "metadata": {},
     "output_type": "execute_result"
    }
   ],
   "source": [
    "students[0]    "
   ]
  },
  {
   "cell_type": "code",
   "execution_count": 73,
   "metadata": {},
   "outputs": [
    {
     "data": {
      "text/plain": [
       "(57, 91, 59, 70, 66)"
      ]
     },
     "execution_count": 73,
     "metadata": {},
     "output_type": "execute_result"
    }
   ],
   "source": [
    "students[1]"
   ]
  },
  {
   "cell_type": "code",
   "execution_count": 74,
   "metadata": {},
   "outputs": [
    {
     "data": {
      "text/plain": [
       "79"
      ]
     },
     "execution_count": 74,
     "metadata": {},
     "output_type": "execute_result"
    }
   ],
   "source": [
    "students[0][0]      #取出索引編號0的位置0"
   ]
  },
  {
   "cell_type": "code",
   "execution_count": 75,
   "metadata": {},
   "outputs": [
    {
     "name": "stdout",
     "output_type": "stream",
     "text": [
      "(79, 90, 91, 97, 50)\n",
      "(57, 91, 59, 70, 66)\n",
      "(82, 82, 95, 64, 79)\n"
     ]
    }
   ],
   "source": [
    "for student in students:        #外面的list用for in迴圈，1個1個抓出來(執行3次)，在這裡students是list資料結構。\n",
    "    print(student)"
   ]
  },
  {
   "cell_type": "code",
   "execution_count": null,
   "metadata": {},
   "outputs": [
    {
     "name": "stdout",
     "output_type": "stream",
     "text": [
      "79\n",
      "90\n",
      "91\n",
      "97\n",
      "50\n",
      "===================\n",
      "57\n",
      "91\n",
      "59\n",
      "70\n",
      "66\n",
      "===================\n",
      "82\n",
      "82\n",
      "95\n",
      "64\n",
      "79\n",
      "===================\n"
     ]
    }
   ],
   "source": [
    "\n",
    "#用2個for in迴圈，全部抓取資料\n",
    "for student in students:    #先算1個學生的，執行3次\n",
    "    for value in student:   #  再算每個學生的，共5個分數\n",
    "        print(value)\n",
    "    print(\"===================\")"
   ]
  }
 ],
 "metadata": {
  "kernelspec": {
   "display_name": "Python 3",
   "language": "python",
   "name": "python3"
  },
  "language_info": {
   "codemirror_mode": {
    "name": "ipython",
    "version": 3
   },
   "file_extension": ".py",
   "mimetype": "text/x-python",
   "name": "python",
   "nbconvert_exporter": "python",
   "pygments_lexer": "ipython3",
   "version": "3.9.16"
  },
  "orig_nbformat": 4
 },
 "nbformat": 4,
 "nbformat_minor": 2
}
