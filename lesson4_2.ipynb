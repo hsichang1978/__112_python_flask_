{
 "cells": [
  {
   "cell_type": "code",
   "execution_count": 7,
   "metadata": {},
   "outputs": [],
   "source": [
    "#自訂函數function-函式內建立索引值\n",
    "def get_factor(para1):     #para1為參數(就是變數)  \n",
    "    print(f\"{para1}的因數是:\")\n",
    "    for i in range(1,para1+1):\n",
    "        if para1 % i == 0:\n",
    "            print(i)\n",
    "    print(\"====================結束\")"
   ]
  },
  {
   "cell_type": "code",
   "execution_count": 10,
   "metadata": {},
   "outputs": [
    {
     "name": "stdout",
     "output_type": "stream",
     "text": [
      "10的因數是:\n",
      "1\n",
      "2\n",
      "5\n",
      "10\n",
      "====================結束\n"
     ]
    }
   ],
   "source": [
    "#自訂函數function-函式內建立索引值\n",
    "get_factor(10)      #function有帶參數，程式越靈活"
   ]
  }
 ],
 "metadata": {
  "kernelspec": {
   "display_name": "Python 3",
   "language": "python",
   "name": "python3"
  },
  "language_info": {
   "codemirror_mode": {
    "name": "ipython",
    "version": 3
   },
   "file_extension": ".py",
   "mimetype": "text/x-python",
   "name": "python",
   "nbconvert_exporter": "python",
   "pygments_lexer": "ipython3",
   "version": "3.9.16"
  },
  "orig_nbformat": 4
 },
 "nbformat": 4,
 "nbformat_minor": 2
}
