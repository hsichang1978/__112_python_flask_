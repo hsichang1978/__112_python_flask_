{
 "cells": [
  {
   "cell_type": "code",
   "execution_count": 18,
   "metadata": {},
   "outputs": [],
   "source": [
    "#自訂函數function-函式內建立索引值\n",
    "def get_factor(para1):     #para1為參數(就是變數)  \n",
    "    print(f\"{para1}的因數是:\")\n",
    "    for i in range(1,para1+1):\n",
    "        if para1 % i == 0:\n",
    "            print(i)\n",
    "    print(\"====================結束\")"
   ]
  },
  {
   "cell_type": "code",
   "execution_count": 19,
   "metadata": {},
   "outputs": [
    {
     "name": "stdout",
     "output_type": "stream",
     "text": [
      "90的因數是:\n",
      "1\n",
      "2\n",
      "3\n",
      "5\n",
      "6\n",
      "9\n",
      "10\n",
      "15\n",
      "18\n",
      "30\n",
      "45\n",
      "90\n",
      "====================結束\n"
     ]
    }
   ],
   "source": [
    "#自訂函數function-函式內建立索引值\n",
    "get_factor(90)      #function有帶參數，程式越靈活"
   ]
  },
  {
   "cell_type": "markdown",
   "metadata": {},
   "source": []
  },
  {
   "cell_type": "code",
   "execution_count": 20,
   "metadata": {},
   "outputs": [
    {
     "name": "stdout",
     "output_type": "stream",
     "text": [
      "78的因數是:\n",
      "1\n",
      "2\n",
      "3\n",
      "6\n",
      "13\n",
      "26\n",
      "39\n",
      "78\n",
      "====================結束\n",
      "95的因數是:\n",
      "1\n",
      "5\n",
      "19\n",
      "95\n",
      "====================結束\n",
      "107的因數是:\n",
      "1\n",
      "107\n",
      "====================結束\n",
      "45的因數是:\n",
      "1\n",
      "3\n",
      "5\n",
      "9\n",
      "15\n",
      "45\n",
      "====================結束\n"
     ]
    }
   ],
   "source": [
    "#計算以下這些數字的因數\n",
    "#整合應用\n",
    "nums = [78,95,107,45]\n",
    "for num in nums:\n",
    "    get_factor(num) "
   ]
  },
  {
   "cell_type": "code",
   "execution_count": 21,
   "metadata": {},
   "outputs": [
    {
     "name": "stdout",
     "output_type": "stream",
     "text": [
      "78的因數是:\n",
      "1\n",
      "2\n",
      "3\n",
      "6\n",
      "13\n",
      "26\n",
      "39\n",
      "78\n",
      "====================結束\n",
      "95的因數是:\n",
      "1\n",
      "5\n",
      "19\n",
      "95\n",
      "====================結束\n",
      "107的因數是:\n",
      "1\n",
      "107\n",
      "====================結束\n",
      "45的因數是:\n",
      "1\n",
      "3\n",
      "5\n",
      "9\n",
      "15\n",
      "45\n",
      "====================結束\n",
      "25的因數是:\n",
      "1\n",
      "5\n",
      "25\n",
      "====================結束\n",
      "199的因數是:\n",
      "1\n",
      "199\n",
      "====================結束\n"
     ]
    }
   ],
   "source": [
    "#計算以下這些數字的因數(少一個變數的寫法)\n",
    "#整合應用\n",
    "for num in [78,95,107,45,25,199]:\n",
    "    get_factor(num) "
   ]
  }
 ],
 "metadata": {
  "kernelspec": {
   "display_name": "Python 3",
   "language": "python",
   "name": "python3"
  },
  "language_info": {
   "codemirror_mode": {
    "name": "ipython",
    "version": 3
   },
   "file_extension": ".py",
   "mimetype": "text/x-python",
   "name": "python",
   "nbconvert_exporter": "python",
   "pygments_lexer": "ipython3",
   "version": "3.9.16"
  },
  "orig_nbformat": 4
 },
 "nbformat": 4,
 "nbformat_minor": 2
}
