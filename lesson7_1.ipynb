{
 "cells": [
  {
   "cell_type": "code",
   "execution_count": 13,
   "metadata": {},
   "outputs": [],
   "source": [
    "import requests\n",
    "url = 'https://seat.tpml.edu.tw/sm/service/getAllArea'\n",
    "response = requests.request('GET',url)\n",
    "if response.status_code == 200:\n",
    "    print(\"連線成功\")\n",
    "    print(response.text)    #text是屬性，不要用括號\n",
    "#json檔是java的物件，為純文字複雜資料，有可能為list內，包含了dictionary。\n",
    "#承上，dictionary內的value又包含了list，故稱純文字複雜資料。\n",
    "else:\n",
    "    print(f\"連線失敗{response.status_cpde}\")"
   ]
  },
  {
   "cell_type": "code",
   "execution_count": null,
   "metadata": {},
   "outputs": [],
   "source": []
  }
 ],
 "metadata": {
  "kernelspec": {
   "display_name": "Python 3",
   "language": "python",
   "name": "python3"
  },
  "language_info": {
   "codemirror_mode": {
    "name": "ipython",
    "version": 3
   },
   "file_extension": ".py",
   "mimetype": "text/x-python",
   "name": "python",
   "nbconvert_exporter": "python",
   "pygments_lexer": "ipython3",
   "version": "3.9.16"
  },
  "orig_nbformat": 4
 },
 "nbformat": 4,
 "nbformat_minor": 2
}
