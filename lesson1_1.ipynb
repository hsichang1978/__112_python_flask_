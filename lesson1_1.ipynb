{
 "cells": [
  {
   "cell_type": "code",
   "execution_count": 3,
   "metadata": {},
   "outputs": [
    {
     "name": "stdout",
     "output_type": "stream",
     "text": [
      "hello python?\n"
     ]
    }
   ],
   "source": [
    "print(\"hello python?\")\n",
    "\n"
   ]
  },
  {
   "cell_type": "code",
   "execution_count": 2,
   "metadata": {},
   "outputs": [
    {
     "name": "stdout",
     "output_type": "stream",
     "text": [
      "123 我是int\n",
      "456.123 我是float\n",
      "字串 我是srt\n",
      "True 我是bool值\n",
      "___________________\n"
     ]
    }
   ],
   "source": [
    "#註解\n",
    "print(123,\"我是int\")\n",
    "print(456.123,'我是float')\n",
    "print('字串',\"我是srt\")\n",
    "print(True,\"我是bool值\")\n",
    "print('___________________')"
   ]
  }
 ],
 "metadata": {
  "kernelspec": {
   "display_name": "Python 3",
   "language": "python",
   "name": "python3"
  },
  "language_info": {
   "codemirror_mode": {
    "name": "ipython",
    "version": 3
   },
   "file_extension": ".py",
   "mimetype": "text/x-python",
   "name": "python",
   "nbconvert_exporter": "python",
   "pygments_lexer": "ipython3",
   "version": "3.9.16"
  },
  "orig_nbformat": 4
 },
 "nbformat": 4,
 "nbformat_minor": 2
}
