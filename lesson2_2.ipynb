{
 "cells": [
  {
   "cell_type": "code",
   "execution_count": 5,
   "metadata": {},
   "outputs": [
    {
     "name": "stdout",
     "output_type": "stream",
     "text": [
      "15\n"
     ]
    }
   ],
   "source": [
    "n = 5\n",
    "m = 10\n",
    "result = input(f\"請輸入{n} + {m} 數值：\")\n",
    "print(result)"
   ]
  },
  {
   "cell_type": "code",
   "execution_count": 24,
   "metadata": {},
   "outputs": [
    {
     "name": "stdout",
     "output_type": "stream",
     "text": [
      "1.0+2.0+3.0 = 6.0\n"
     ]
    }
   ],
   "source": [
    "#請輸入第一個變數:87.9\n",
    "#請輸入第二個變數:45\n",
    "#請輸入第三個變數:87.5\n",
    "\n",
    "\n",
    "\n",
    "\n",
    "a1 = float(input(\"請輸入第一個變數:\"))\n",
    "a2 = float(input(\"請輸入第二個變數:\"))\n",
    "a3 = float(input(\"請輸入第三個變數:\"))\n",
    "\n",
    "result = a1 + a2 +a3\n",
    "print(f\"{a1}+{a2}+{a3} = {result}\")\n"
   ]
  },
  {
   "cell_type": "code",
   "execution_count": null,
   "metadata": {},
   "outputs": [],
   "source": []
  }
 ],
 "metadata": {
  "kernelspec": {
   "display_name": "Python 3",
   "language": "python",
   "name": "python3"
  },
  "language_info": {
   "codemirror_mode": {
    "name": "ipython",
    "version": 3
   },
   "file_extension": ".py",
   "mimetype": "text/x-python",
   "name": "python",
   "nbconvert_exporter": "python",
   "pygments_lexer": "ipython3",
   "version": "3.10.4"
  },
  "orig_nbformat": 4
 },
 "nbformat": 4,
 "nbformat_minor": 2
}
