{
 "cells": [
  {
   "cell_type": "code",
   "execution_count": 10,
   "metadata": {},
   "outputs": [
    {
     "name": "stdout",
     "output_type": "stream",
     "text": [
      "總共存了4月，共存了32000\n"
     ]
    }
   ],
   "source": [
    "#小明想要存錢買一輛機車,機車每輛30000元，他將每月存的錢輸入，當存款足夠買機車時，就顯示提示訊息告知\n",
    "#while迴圈範例\n",
    "\n",
    "deposit = 0\n",
    "num = 0 \n",
    "while(deposit < 30000):                                       #條件為小於3萬\n",
    "    num += 1                                                   #每次進到迴圈就加1次\n",
    "    input_value = int(input(f\"請輸入第{num}月份的存款：\"))      \n",
    "    # input_value = int(input(\"請輸入本月份的存款：\"))\n",
    "    deposit += input_value\n",
    "print(f\"總共存了{num}月，共存了{deposit}\")"
   ]
  },
  {
   "cell_type": "code",
   "execution_count": 11,
   "metadata": {},
   "outputs": [
    {
     "name": "stdout",
     "output_type": "stream",
     "text": [
      "總共存了1月，共存了8888888\n"
     ]
    }
   ],
   "source": [
    "#while-break迴圈範例\n",
    "#小明想要存錢買一輛機車,機車每輛30000元，他將每月存的錢輸入，當存款足夠買機車時，就顯示提示訊息告知\n",
    "\n",
    "deposit = 0\n",
    "num = 0 \n",
    "while(True):                                       #條件永遠為真\n",
    "    num += 1                                                  \n",
    "    input_value = int(input(f\"請輸入第{num}月份的存款：\"))      \n",
    "    # input_value = int(input(\"請輸入本月份的存款：\"))\n",
    "    deposit += input_value\n",
    "    if(deposit >= 30000):\n",
    "        break\n",
    "\n",
    "print(f\"總共存了{num}月，共存了{deposit}\")"
   ]
  },
  {
   "cell_type": "code",
   "execution_count": 20,
   "metadata": {},
   "outputs": [
    {
     "name": "stdout",
     "output_type": "stream",
     "text": [
      "所有輸入正偶數加總:44444450966766666667111560044444444450\n"
     ]
    }
   ],
   "source": [
    "#請設計一個程式，讓使用者輸入數值，只有加總正偶數值，不加總正奇數值，如果輸入負數，結束程式。\n",
    "\n",
    "num = 0\n",
    "sum = 0\n",
    "\n",
    "while(True):\n",
    "    num += 1\n",
    "    input_num = int(input(f\"請輸入第{num}個數值：\"))\n",
    "    if input_num < 0:          #輸入的數字小於0，也就是負數\n",
    "            break\n",
    "    elif input_num % 2 ==1:    #輸入數字除2，取餘數要等於1，代表該輸入數字為奇數\n",
    "          continue             #跳回到while(True)\n",
    "    else:                      #不是負數也不是奇數，及加總偶數\n",
    "          sum += input_num\n",
    "print(f\"所有輸入正偶數加總:{sum}\")"
   ]
  },
  {
   "cell_type": "code",
   "execution_count": 25,
   "metadata": {},
   "outputs": [
    {
     "name": "stdout",
     "output_type": "stream",
     "text": [
      "9999999999999999999999999999999999999的因數是:\n",
      "1\n",
      "3\n",
      "9\n",
      "2028119\n",
      "6084357\n",
      "18253071\n"
     ]
    }
   ],
   "source": [
    "#輸入數值求其【因數】\n",
    "num = int(input(\"請輸入一個數值，並求其因數：\"))\n",
    "print(f\"{num}的因數是:\")\n",
    "\n",
    "for i in range(1,num+1):\n",
    "    if num % i == 0:\n",
    "        print(i)\n",
    "print(\"====================結束\")\n"
   ]
  }
 ],
 "metadata": {
  "kernelspec": {
   "display_name": "Python 3",
   "language": "python",
   "name": "python3"
  },
  "language_info": {
   "codemirror_mode": {
    "name": "ipython",
    "version": 3
   },
   "file_extension": ".py",
   "mimetype": "text/x-python",
   "name": "python",
   "nbconvert_exporter": "python",
   "pygments_lexer": "ipython3",
   "version": "3.9.16"
  },
  "orig_nbformat": 4
 },
 "nbformat": 4,
 "nbformat_minor": 2
}
