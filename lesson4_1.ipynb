{
 "cells": [
  {
   "cell_type": "code",
   "execution_count": 10,
   "metadata": {},
   "outputs": [
    {
     "name": "stdout",
     "output_type": "stream",
     "text": [
      "總共存了4月，共存了32000\n"
     ]
    }
   ],
   "source": [
    "#while迴圈範例\n",
    "\n",
    "deposit = 0\n",
    "num = 0 \n",
    "while(deposit < 30000):                                       #條件為小於3萬\n",
    "    num += 1                                                   #每次進到迴圈就加1次\n",
    "    input_value = int(input(f\"請輸入第{num}月份的存款：\"))      \n",
    "    # input_value = int(input(\"請輸入本月份的存款：\"))\n",
    "    deposit += input_value\n",
    "print(f\"總共存了{num}月，共存了{deposit}\")"
   ]
  },
  {
   "cell_type": "code",
   "execution_count": 11,
   "metadata": {},
   "outputs": [
    {
     "name": "stdout",
     "output_type": "stream",
     "text": [
      "總共存了1月，共存了8888888\n"
     ]
    }
   ],
   "source": [
    "#while-break迴圈範例\n",
    "#小明想要存錢買一輛機車,機車每輛30000元，他將每月存的錢輸入，當存款足夠買機車時，就顯示提示訊息告知\n",
    "\n",
    "deposit = 0\n",
    "num = 0 \n",
    "while(True):                                       #條件永遠為真\n",
    "    num += 1                                                  \n",
    "    input_value = int(input(f\"請輸入第{num}月份的存款：\"))      \n",
    "    # input_value = int(input(\"請輸入本月份的存款：\"))\n",
    "    deposit += input_value\n",
    "    if(deposit >= 30000):\n",
    "        break\n",
    "\n",
    "print(f\"總共存了{num}月，共存了{deposit}\")"
   ]
  },
  {
   "cell_type": "code",
   "execution_count": 18,
   "metadata": {},
   "outputs": [
    {
     "ename": "ValueError",
     "evalue": "invalid literal for int() with base 10: ''",
     "output_type": "error",
     "traceback": [
      "\u001b[0;31m---------------------------------------------------------------------------\u001b[0m",
      "\u001b[0;31mValueError\u001b[0m                                Traceback (most recent call last)",
      "Cell \u001b[0;32mIn[18], line 8\u001b[0m\n\u001b[1;32m      6\u001b[0m \u001b[39mwhile\u001b[39;00m(\u001b[39mTrue\u001b[39;00m):\n\u001b[1;32m      7\u001b[0m     num \u001b[39m+\u001b[39m\u001b[39m=\u001b[39m \u001b[39m1\u001b[39m\n\u001b[0;32m----> 8\u001b[0m     input_num \u001b[39m=\u001b[39m \u001b[39mint\u001b[39;49m(\u001b[39minput\u001b[39;49m(\u001b[39mf\u001b[39;49m\u001b[39m\"\u001b[39;49m\u001b[39m請輸入第\u001b[39;49m\u001b[39m{\u001b[39;49;00mnum\u001b[39m}\u001b[39;49;00m\u001b[39m個數值：\u001b[39;49m\u001b[39m\"\u001b[39;49m))\n\u001b[1;32m      9\u001b[0m     \u001b[39mif\u001b[39;00m input_num \u001b[39m<\u001b[39m \u001b[39m0\u001b[39m:          \u001b[39m#輸入的數字小於0，也就是負數\u001b[39;00m\n\u001b[1;32m     10\u001b[0m             \u001b[39mbreak\u001b[39;00m\n",
      "\u001b[0;31mValueError\u001b[0m: invalid literal for int() with base 10: ''"
     ]
    }
   ],
   "source": [
    "#請設計一個程式，讓使用者輸入數值，只有加總正偶數值，不加總正奇數值，如果輸入負數，結束程式。\n",
    "\n",
    "num = 0\n",
    "sum = 0\n",
    "\n",
    "while(True):\n",
    "    num += 1\n",
    "    input_num = int(input(f\"請輸入第{num}個數值：\"))\n",
    "    if input_num < 0:          #輸入的數字小於0，也就是負數\n",
    "            break\n",
    "    elif input_num % 2 ==1:    #輸入數字除2，取餘數要等於1，代表該輸入數字為奇數\n",
    "          continue             #跳回到while(True)\n",
    "    else:                      #不是負數也不是奇數，及加總偶數\n",
    "          sum += input_num\n",
    "print(f\"所有輸入正偶數加總:{sum}\")"
   ]
  },
  {
   "cell_type": "code",
   "execution_count": null,
   "metadata": {},
   "outputs": [],
   "source": [
    "w"
   ]
  }
 ],
 "metadata": {
  "kernelspec": {
   "display_name": "Python 3",
   "language": "python",
   "name": "python3"
  },
  "language_info": {
   "codemirror_mode": {
    "name": "ipython",
    "version": 3
   },
   "file_extension": ".py",
   "mimetype": "text/x-python",
   "name": "python",
   "nbconvert_exporter": "python",
   "pygments_lexer": "ipython3",
   "version": "3.9.16"
  },
  "orig_nbformat": 4
 },
 "nbformat": 4,
 "nbformat_minor": 2
}
