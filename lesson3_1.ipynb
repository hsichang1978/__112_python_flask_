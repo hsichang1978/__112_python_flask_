{
 "cells": [
  {
   "cell_type": "code",
   "execution_count": 2,
   "metadata": {},
   "outputs": [
    {
     "name": "stdout",
     "output_type": "stream",
     "text": [
      "<class 'int'>\n"
     ]
    }
   ],
   "source": [
    "print(type(13))"
   ]
  },
  {
   "cell_type": "code",
   "execution_count": 5,
   "metadata": {},
   "outputs": [
    {
     "data": {
      "text/plain": [
       "(True, False)"
      ]
     },
     "execution_count": 5,
     "metadata": {},
     "output_type": "execute_result"
    }
   ],
   "source": [
    "5 == 5,3 == 5,\n",
    "\n",
    "\n"
   ]
  },
  {
   "cell_type": "code",
   "execution_count": 18,
   "metadata": {},
   "outputs": [
    {
     "name": "stdout",
     "output_type": "stream",
     "text": [
      "成年了\n",
      "可以考駕照了\n"
     ]
    }
   ],
   "source": [
    "age = 18\n",
    "if age >= 18:  #單項選擇\n",
    "    print(\"成年了\")\n",
    "    print(\"可以考駕照了\")\n"
   ]
  },
  {
   "cell_type": "code",
   "execution_count": 17,
   "metadata": {},
   "outputs": [
    {
     "name": "stdout",
     "output_type": "stream",
     "text": [
      "未成年了\n",
      "還不可以考駕照了\n",
      "應用程式結束\n"
     ]
    }
   ],
   "source": [
    "age = 18\n",
    "if age >= 18:  #雙項選擇\n",
    "    print(\"成年了\")\n",
    "    print(\"可以考駕照了\")\n",
    "else:   \n",
    "    # pass  # 所有程式區塊都要有東西，若暫時不打資料，則要打pass\n",
    "    print(\"未成年\")\n",
    "    print(\"還不可以考駕照了\")\n",
    "\n",
    "print(\"應用程式結束\")\n",
    "# \n",
    "# \n",
    "# \n"
   ]
  },
  {
   "cell_type": "code",
   "execution_count": 22,
   "metadata": {},
   "outputs": [
    {
     "name": "stdout",
     "output_type": "stream",
     "text": [
      "成績等級為:優\n"
     ]
    }
   ],
   "source": [
    "score = int(input (\"請輸入分數：\"))\n",
    "# score = float(input (\"請輸入分數：\"))\n",
    "if score >= 90:\n",
    "    grade = \"優\"\n",
    "elif score >= 80: #小於90，大於等於80，才會執行\n",
    "    grade = \"甲\"\n",
    "elif score >= 70:\n",
    "    grade = \"乙\"\n",
    "elif score >= 60:\n",
    "    grade = \"丙\"\n",
    "else:\n",
    "    grade = \"丁\"\n",
    "print(f\"成績等級為:{grade}\")    #字串插補f,大括號{}，打括號內grade從上面程式內插到字串內\n"
   ]
  }
 ],
 "metadata": {
  "kernelspec": {
   "display_name": "Python 3",
   "language": "python",
   "name": "python3"
  },
  "language_info": {
   "codemirror_mode": {
    "name": "ipython",
    "version": 3
   },
   "file_extension": ".py",
   "mimetype": "text/x-python",
   "name": "python",
   "nbconvert_exporter": "python",
   "pygments_lexer": "ipython3",
   "version": "3.9.16"
  },
  "orig_nbformat": 4
 },
 "nbformat": 4,
 "nbformat_minor": 2
}
